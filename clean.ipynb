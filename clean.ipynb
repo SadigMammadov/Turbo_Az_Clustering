{
 "cells": [
  {
   "cell_type": "code",
   "execution_count": 17,
   "id": "c471edeb-4d3a-4587-984b-6651da3a2589",
   "metadata": {},
   "outputs": [],
   "source": [
    "import pandas as pd\n",
    "import numpy as np\n",
    "import re"
   ]
  },
  {
   "cell_type": "code",
   "execution_count": 11,
   "id": "e97dccf9-9119-40fd-8fc9-f6a8487bb915",
   "metadata": {},
   "outputs": [],
   "source": [
    "df=pd.read_csv('turbo_az_december_2024.csv')"
   ]
  },
  {
   "cell_type": "code",
   "execution_count": 18,
   "id": "2084b7db-fdb6-46f4-8a4a-e589b22393a3",
   "metadata": {},
   "outputs": [
    {
     "name": "stdout",
     "output_type": "stream",
     "text": [
      "Missing values before handling:\n",
      "price_azn       0\n",
      "year            0\n",
      "mileage         0\n",
      "engine         49\n",
      "horse_power    49\n",
      "n_views         0\n",
      "dtype: int64\n",
      "Imputing mileage with median: 146000.0\n",
      "Imputing engine with median: 2.0\n",
      "Imputing horse_power with median: 173.0\n",
      "\n",
      "Missing values after cleaning:\n",
      "price_azn      0\n",
      "year           0\n",
      "mileage        0\n",
      "engine         0\n",
      "horse_power    0\n",
      "n_views        0\n",
      "dtype: int64\n",
      "\n",
      "Data types:\n",
      "price_azn        int64\n",
      "year             int64\n",
      "mileage          int64\n",
      "engine         float64\n",
      "horse_power    float64\n",
      "n_views          int64\n",
      "dtype: object\n",
      "\n",
      "Sample cleaned data:\n",
      "   price_azn  year  mileage  engine  horse_power  n_views\n",
      "0      21900  2020    98000     1.5         74.0     3654\n",
      "1     110160  2017     2000     3.6        300.0      824\n",
      "2      30583  2024        0     1.5        238.0     8389\n",
      "3      18800  2018    77000     1.2         98.0     1371\n",
      "4      23900  2016   103000     1.5        116.0     3505\n",
      "\n",
      "Descriptive statistics:\n",
      "           price_azn         year       mileage       engine  horse_power  \\\n",
      "count    8482.000000  8482.000000  8.482000e+03  8482.000000  8482.000000   \n",
      "mean    37394.421245  2012.824923  1.608130e+05     2.179981   195.094317   \n",
      "std     47898.409013     8.765715  1.401635e+05     1.138181   109.556056   \n",
      "min       650.000000  1954.000000  0.000000e+00     0.000000    12.000000   \n",
      "25%     14200.000000  2008.000000  5.600000e+04     1.600000   123.000000   \n",
      "50%     24900.000000  2014.000000  1.460000e+05     2.000000   173.000000   \n",
      "75%     41650.000000  2019.000000  2.330000e+05     2.400000   245.000000   \n",
      "max    935000.000000  2024.000000  1.581125e+06    13.000000  1500.000000   \n",
      "\n",
      "             n_views  \n",
      "count    8482.000000  \n",
      "mean     3556.170243  \n",
      "std     10185.840939  \n",
      "min        34.000000  \n",
      "25%       453.000000  \n",
      "50%      1241.000000  \n",
      "75%      3131.750000  \n",
      "max    356642.000000  \n"
     ]
    }
   ],
   "source": [
    "# Columns we'll use for clustering (with cleaning)\n",
    "cluster_features = ['price_azn', 'year', 'mileage', 'engine', 'horse_power', 'n_views']\n",
    "\n",
    "# Standardize column names (if not done already)\n",
    "df.columns = df.columns.str.lower()\n",
    "\n",
    "# 2. Enhanced cleaning function\n",
    "df['mileage'] = (\n",
    "    df['mileage']\n",
    "    .str.replace('km', '', regex=False)  # Remove 'km'\n",
    "    .str.replace(' ', '')                # Remove spaces\n",
    "    .astype(int)                         # Convert to numeric\n",
    ")\n",
    "\n",
    "df['engine'] = (\n",
    "    df['engine']\n",
    "    .str.replace('L', '', regex=False)  # Remove 'L'\n",
    "    .str.replace(' ', '')              # Remove spaces\n",
    "    .astype(float)                     # Convert to float\n",
    ")\n",
    "\n",
    "df['horse_power'] = (\n",
    "    df['horse_power']\n",
    "    .str.replace('a.g.', '', regex=False)  # Remove 'km'\n",
    "    .str.replace(' ', '')                # Remove spaces\n",
    "    .astype(float)                         # Convert to numeric\n",
    ")\n",
    "\n",
    "# Convert other features to numeric (safe conversion)\n",
    "for col in ['price_azn', 'year', 'n_views']:\n",
    "    df[col] = pd.to_numeric(df[col], errors='coerce')\n",
    "\n",
    "# 3. Handle missing values (same as before)\n",
    "print(\"Missing values before handling:\")\n",
    "print(df[cluster_features].isna().sum())\n",
    "\n",
    "# Strategy: Drop rows with missing critical features (price, year)\n",
    "df = df.dropna(subset=['price_azn', 'year'])\n",
    "\n",
    "# For other features, impute median (preserves distribution)\n",
    "for col in ['mileage', 'engine', 'horse_power']:\n",
    "    median_val = df[col].median()\n",
    "    print(f\"Imputing {col} with median: {median_val}\")\n",
    "    df[col] = df[col].fillna(median_val)\n",
    "\n",
    "# 4. Final verification (enhanced)\n",
    "print(\"\\nMissing values after cleaning:\")\n",
    "print(df[cluster_features].isna().sum())\n",
    "\n",
    "print(\"\\nData types:\")\n",
    "print(df[cluster_features].dtypes)\n",
    "\n",
    "print(\"\\nSample cleaned data:\")\n",
    "print(df[cluster_features].head())\n",
    "\n",
    "print(\"\\nDescriptive statistics:\")\n",
    "print(df[cluster_features].describe())"
   ]
  },
  {
   "cell_type": "code",
   "execution_count": 19,
   "id": "b78bbb0f",
   "metadata": {},
   "outputs": [
    {
     "data": {
      "text/plain": [
       "0     98000\n",
       "1      2000\n",
       "2         0\n",
       "3     77000\n",
       "4    103000\n",
       "Name: mileage, dtype: int64"
      ]
     },
     "execution_count": 19,
     "metadata": {},
     "output_type": "execute_result"
    }
   ],
   "source": [
    "df['mileage'].head()"
   ]
  },
  {
   "cell_type": "code",
   "execution_count": 14,
   "id": "6205c536-dd48-482b-ad2f-8b0665aa3e39",
   "metadata": {},
   "outputs": [],
   "source": [
    "df.to_csv(\"cleaned_turbo_az.csv\")"
   ]
  }
 ],
 "metadata": {
  "kernelspec": {
   "display_name": "Python 3.12.10 64-bit (microsoft store)",
   "language": "python",
   "name": "python3"
  },
  "language_info": {
   "codemirror_mode": {
    "name": "ipython",
    "version": 3
   },
   "file_extension": ".py",
   "mimetype": "text/x-python",
   "name": "python",
   "nbconvert_exporter": "python",
   "pygments_lexer": "ipython3",
   "version": "3.12.10"
  },
  "vscode": {
   "interpreter": {
    "hash": "aef26eee6b880a350b36d986ea92a42f6dd2740058cc933bd4039b8ac315d4ae"
   }
  }
 },
 "nbformat": 4,
 "nbformat_minor": 5
}
